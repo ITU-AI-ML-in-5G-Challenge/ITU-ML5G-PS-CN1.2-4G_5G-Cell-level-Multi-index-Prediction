{
 "cells": [
  {
   "cell_type": "markdown",
   "metadata": {},
   "source": [
    "**Other01 direct 7days-shift cleaning data to watch(not necessary,only for watching and compare)(PS:Download on the server offer by the match organization is prohibit,so the effect of code is only can be showed by screenshot of running on server.)**\n",
    "\n",
    "**The prediction result is 0.3182（mape).(screenshot shown in the end of code)**\n",
    "\n",
    "**对清洗数据直接平移7天观察效果（不重要，只是为了观察和比较）（备注：因赛事方比赛服务器限制所有下载，部分代码效果只有对服务器代码运行截图显示，参见代码部分。）**\n",
    "\n",
    "**预测结果0.3182（mape)。(参见代码最后截图)**"
   ]
  },
  {
   "cell_type": "code",
   "execution_count": null,
   "metadata": {},
   "outputs": [],
   "source": [
    "import os\n",
    "import pickle\n",
    "import datetime\n",
    "import zipfile"
   ]
  },
  {
   "cell_type": "code",
   "execution_count": null,
   "metadata": {},
   "outputs": [],
   "source": [
    "start_time = datetime.datetime.now()\n",
    "log_str = 'start_time is {}'.format(start_time)\n",
    "print(log_str)"
   ]
  },
  {
   "cell_type": "code",
   "execution_count": null,
   "metadata": {},
   "outputs": [],
   "source": [
    "def df_to_csv(input_data,net_kind = \"4g\",city_name = False,\n",
    "             data_columns = ['上行利用率PUSCH','下行利用率PDSCH', '有效RRC连接平均数', '下行流量', '上行流量', '下行利用率PDCCH'],\n",
    "             data_col_dict = {'上行利用率PUSCH':'PUSCH','下行利用率PDSCH':'PDSCH','有效RRC连接平均数':'RRC',\n",
    "                             '下行流量':'PDCPDL','上行流量':'PDCPUL','下行利用率PDCCH':'PDCCH','有数据传输的RRC数':'RRC'}):\n",
    "    input_data.reset_index(drop = True,inplace = True)\n",
    "    input_data[\"TimeStamp_orgin\"] =  input_data[\"TimeStamp\"].apply(lambda x: datetime.datetime.strptime(x,\"%Y-%m-%d %H:%M:%S\"))\n",
    "    #取6月的最后7天进行平移观察清洗效果\n",
    "    input_data = input_data.loc[input_data[\"TimeStamp_orgin\"] > '2021-06-23T23:00:00.000000000']\n",
    "    input_data[data_columns] = input_data[data_columns].astype('float64')\n",
    "    columns_name = [\"UserLabel\"]\n",
    "    for order_num in range(1,169):\n",
    "        columns_name.append(\"预测未来{}小时\".format(order_num))\n",
    "    if city_name == False:\n",
    "        city_name = input_data['city'].iloc[0]\n",
    "    for data_col in data_columns:\n",
    "        data_col_in = data_col_dict[data_col]\n",
    "        output_data = input_data.pivot_table(data_col,index = \"UserLabel\",columns = \"TimeStamp\")\n",
    "        output_data.reset_index(inplace = True)\n",
    "        output_data.columns = columns_name\n",
    "        output_data.set_index(\"UserLabel\",inplace = True)\n",
    "        output_data = output_data.fillna(output_data.mean())\n",
    "        csv_name = './result_data_7shift/{}_{}_{}.csv'.format(net_kind,data_col_in,city_name)\n",
    "        print(\"begin output_data in {}\".format(csv_name))\n",
    "        output_data.to_csv(csv_name,encoding= 'gbk')\n",
    "        print(\"success output_data in {}\".format(csv_name))"
   ]
  },
  {
   "cell_type": "code",
   "execution_count": null,
   "metadata": {},
   "outputs": [],
   "source": [
    "G5_data_columns = ['上行利用率PUSCH','下行利用率PDSCH', '有数据传输的RRC数', '下行流量', '上行流量', '下行利用率PDCCH']\n",
    "fileFolder = './Datasets_new_IQR_100'\n",
    "for folderName,subfolders,filenames in os.walk(fileFolder):\n",
    "    for filename in filenames:\n",
    "        if '4g_pm' in filename and '202106' in filename:\n",
    "            city_name = filename[-20:-4]\n",
    "            in_file = os.path.join(folderName,filename)\n",
    "            file=open(in_file,'rb')\n",
    "            df = pickle.load(file)\n",
    "            df_to_csv(df,city_name = city_name)\n",
    "            file.close()\n",
    "        elif '5g_pm' in filename and '202106' in filename:\n",
    "            city_name = filename[-20:-4]\n",
    "            in_file = os.path.join(folderName,filename)\n",
    "            file=open(in_file,'rb')\n",
    "            df = pickle.load(file)\n",
    "            df_to_csv(df,net_kind = \"5g\",data_columns = G5_data_columns,city_name = city_name)\n",
    "            file.close()"
   ]
  },
  {
   "cell_type": "code",
   "execution_count": null,
   "metadata": {},
   "outputs": [],
   "source": [
    "end_time = datetime.datetime.now()\n",
    "log_str = 'end_time is {}'.format(end_time)\n",
    "print(log_str)\n",
    "all_use_time = (end_time - start_time)\n",
    "log_str = 'all_use_time is {}'.format(all_use_time)\n",
    "print(log_str)"
   ]
  },
  {
   "cell_type": "code",
   "execution_count": null,
   "metadata": {},
   "outputs": [],
   "source": [
    "def compressFolder(folderPath, compressPathName):\n",
    "    '''\n",
    "    :param folderPath: 文件夹路径\n",
    "    :param compressPathName: 压缩包路径\n",
    "    :return:\n",
    "    '''\n",
    "    zip = zipfile.ZipFile(compressPathName, 'w', zipfile.ZIP_DEFLATED)\n",
    "    for path, dirNames, fileNames in os.walk(folderPath):\n",
    "        for name in fileNames:\n",
    "            fullName = os.path.join(path, name)\n",
    "            name = \"result_data\" + '/' + name\n",
    "            print(fullName)\n",
    "            print(name)\n",
    "            zip.write(fullName, name)\n",
    "\n",
    "    zip.close()"
   ]
  },
  {
   "cell_type": "code",
   "execution_count": null,
   "metadata": {},
   "outputs": [],
   "source": [
    "folderPath = './result_data_7shift'\n",
    "compressPathName = './result_data.zip'\n",
    "compressFolder(folderPath, compressPathName)"
   ]
  },
  {
   "cell_type": "code",
   "execution_count": null,
   "metadata": {},
   "outputs": [],
   "source": [
    "!curl --location --request POST 'http://36.133.53.121:1080/file/upload' --form 'cloud_id=CIDC-U-6fca7a4e9f9645f0abe69ea1df9f7e26' --form 'file=@result_data.zip'"
   ]
  },
  {
   "attachments": {
    "image.png": {
     "image/png": "[encoded data removed]"
    }
   },
   "cell_type": "markdown",
   "metadata": {},
   "source": [
    "![image.png](attachment:image.png)"
   ]
  },
  {
   "cell_type": "code",
   "execution_count": null,
   "metadata": {},
   "outputs": [],
   "source": []
  }
 ],
 "metadata": {
  "kernelspec": {
   "display_name": "Python 3",
   "language": "python",
   "name": "python3"
  },
  "language_info": {
   "codemirror_mode": {
    "name": "ipython",
    "version": 3
   },
   "file_extension": ".py",
   "mimetype": "text/x-python",
   "name": "python",
   "nbconvert_exporter": "python",
   "pygments_lexer": "ipython3",
   "version": "3.8.3"
  }
 },
 "nbformat": 4,
 "nbformat_minor": 4
}
